{
 "cells": [
  {
   "cell_type": "markdown",
   "source": [
    "PUG-REST encodes these three pieces of information into a simple one-line **uniform resource locator (URL)**, which consists of the *input*, *operation*, and *output* parts, preceded by a prefix common to all PUG-REST requests.\n",
    "Let's build it!"
   ],
   "metadata": {
    "collapsed": false
   }
  },
  {
   "cell_type": "code",
   "execution_count": null,
   "outputs": [],
   "source": [
    "def input_specification(domain: str, namespace: str, identifiers: Union[int, str]) -> str:\n",
    "    return f\"{domain}/{namespace}/{identifiers}\"\n",
    "\n",
    "\n",
    "def operation_specification(operation: str, property_tags: Optional[str] = None) -> str:\n",
    "    if property_tags is None:\n",
    "        return f\"{operation}\"\n",
    "    else:\n",
    "        return f\"{operation}/{property_tags}\"\n",
    "\n",
    "\n",
    "def build_url(input_spec: str, operation_spec: str, output_format: str) -> str:\n",
    "    base = \"https://pubchem.ncbi.nlm.nih.gov/rest/pug\"\n",
    "    return f\"{base}/{input_spec}/{operation_spec}/{output_format}\""
   ],
   "metadata": {
    "collapsed": false,
    "pycharm": {
     "name": "#%%\n"
    }
   }
  },
  {
   "cell_type": "code",
   "execution_count": null,
   "outputs": [],
   "source": [
    "def generate_ids() -> Generator[int, None, None]:\n",
    "    n = 1\n",
    "    while True:\n",
    "        yield n\n",
    "        n += 1\n",
    "\n",
    "\n",
    "def delay_iterations(ids: Iterable[T], width: float, count: int) -> Generator[T, None, None]:\n",
    "    window = []\n",
    "    for i in ids:\n",
    "        yield i\n",
    "        t = time.monotonic()\n",
    "        window.append(t)\n",
    "        while t - width > window[0]:\n",
    "            del window[0]\n",
    "        if len(window) > count:\n",
    "            t0 = window[0]\n",
    "            delay = t - t0\n",
    "            time.sleep(delay)"
   ],
   "metadata": {
    "collapsed": false,
    "pycharm": {
     "name": "#%%\n"
    }
   }
  },
  {
   "cell_type": "code",
   "execution_count": null,
   "outputs": [],
   "source": [
    "def join_w_comma(*args: object) -> str:\n",
    "    return \",\".join(map(str, args))\n",
    "\n",
    "\n",
    "def prepare_request(identifiers: Iterable[T], operation: str, property_tags: Optional[list] = None) -> str:\n",
    "    joined_identifiers = join_w_comma(*identifiers)\n",
    "    input_spec = input_specification(domain, namespace, joined_identifiers)\n",
    "    if property_tags is None:\n",
    "        operation_spec = operation_specification(operation)\n",
    "    else:\n",
    "        joined_tags = join_w_comma(*property_tags)\n",
    "        operation_spec = operation_specification(operation, joined_tags)\n",
    "    url = build_url(input_spec, operation_spec, output)\n",
    "    return url\n",
    "\n",
    "\n",
    "def request_data(url: str, **params: str) -> requests.Response:\n",
    "    response = requests.get(url, params=params)\n",
    "    data = response.json()\n",
    "    return data\n",
    "\n",
    "\n",
    "def execute_request(url, params):\n",
    "    print(url)\n",
    "    res = request_data(url, **params)\n",
    "    return res"
   ],
   "metadata": {
    "collapsed": false,
    "pycharm": {
     "name": "#%%\n"
    }
   }
  },
  {
   "cell_type": "code",
   "execution_count": null,
   "outputs": [],
   "source": [
    "domain = \"compound\"\n",
    "namespace = \"cid\"\n",
    "operation = \"property\"\n",
    "output = \"JSON\"\n",
    "tags = [\"MolecularFormula\", \"MolecularWeight\", \"IUPACName\", \"CanonicalSMILES\"]\n",
    "# additional_tags = [\"InChI\", \"XLogP\", \"HBondDonorCount\", \"HBondAcceptorCount\", \"RotatableBondCount\", \"Volume3D\"]\n",
    "\n",
    "results = {}\n",
    "t_start = time.monotonic()\n",
    "for i in delay_iterations(generate_ids(), 60.0, 400):\n",
    "    url = prepare_request([i], operation,  tags)\n",
    "    try:\n",
    "        res = execute_request(url, {})\n",
    "    except requests.HTTPError:\n",
    "        break\n",
    "    else:\n",
    "        results[i] = res\n",
    "t_stop = time.monotonic()\n",
    "t_run = t_stop - t_start\n",
    "print(t_run)"
   ],
   "metadata": {
    "collapsed": false,
    "pycharm": {
     "name": "#%%\n"
    }
   }
  },
  {
   "cell_type": "code",
   "execution_count": 5,
   "outputs": [],
   "source": [
    "from data import save_json"
   ],
   "metadata": {
    "collapsed": false,
    "pycharm": {
     "name": "#%%\n"
    }
   }
  },
  {
   "cell_type": "code",
   "execution_count": null,
   "outputs": [],
   "source": [],
   "metadata": {
    "collapsed": false,
    "pycharm": {
     "name": "#%%\n"
    }
   }
  }
 ],
 "metadata": {
  "kernelspec": {
   "display_name": "Python 3",
   "language": "python",
   "name": "python3"
  },
  "language_info": {
   "codemirror_mode": {
    "name": "ipython",
    "version": 2
   },
   "file_extension": ".py",
   "mimetype": "text/x-python",
   "name": "python",
   "nbconvert_exporter": "python",
   "pygments_lexer": "ipython2",
   "version": "2.7.6"
  },
  "pycharm": {
   "stem_cell": {
    "cell_type": "raw",
    "source": [
     "import json\n",
     "import requests\n",
     "import time\n",
     "from typing import (\n",
     "    Generator,\n",
     "    Iterable,\n",
     "    Optional,\n",
     "    TypeVar,\n",
     "    Union\n",
     ")\n",
     "\n",
     "T = TypeVar(\"T\")\n"
    ],
    "metadata": {
     "collapsed": false
    }
   }
  }
 },
 "nbformat": 4,
 "nbformat_minor": 0
}